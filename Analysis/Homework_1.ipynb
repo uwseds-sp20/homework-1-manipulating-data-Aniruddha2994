{
 "cells": [
  {
   "cell_type": "code",
   "execution_count": 1,
   "metadata": {},
   "outputs": [],
   "source": [
    "import pandas as pd\n",
    "import matplotlib.pyplot as plt\n",
    "import matplotlib.colors"
   ]
  },
  {
   "cell_type": "markdown",
   "metadata": {},
   "source": [
    "Reading Data"
   ]
  },
  {
   "cell_type": "code",
   "execution_count": 2,
   "metadata": {},
   "outputs": [
    {
     "data": {
      "text/html": [
       "<div>\n",
       "<style scoped>\n",
       "    .dataframe tbody tr th:only-of-type {\n",
       "        vertical-align: middle;\n",
       "    }\n",
       "\n",
       "    .dataframe tbody tr th {\n",
       "        vertical-align: top;\n",
       "    }\n",
       "\n",
       "    .dataframe thead th {\n",
       "        text-align: right;\n",
       "    }\n",
       "</style>\n",
       "<table border=\"1\" class=\"dataframe\">\n",
       "  <thead>\n",
       "    <tr style=\"text-align: right;\">\n",
       "      <th></th>\n",
       "      <th>Date</th>\n",
       "      <th>Fremont Bridge Total</th>\n",
       "      <th>Fremont Bridge East Sidewalk</th>\n",
       "      <th>Fremont Bridge West Sidewalk</th>\n",
       "    </tr>\n",
       "  </thead>\n",
       "  <tbody>\n",
       "    <tr>\n",
       "      <th>0</th>\n",
       "      <td>10/03/2012 12:00:00 AM</td>\n",
       "      <td>13.0</td>\n",
       "      <td>4.0</td>\n",
       "      <td>9.0</td>\n",
       "    </tr>\n",
       "    <tr>\n",
       "      <th>1</th>\n",
       "      <td>10/03/2012 01:00:00 AM</td>\n",
       "      <td>10.0</td>\n",
       "      <td>4.0</td>\n",
       "      <td>6.0</td>\n",
       "    </tr>\n",
       "    <tr>\n",
       "      <th>2</th>\n",
       "      <td>10/03/2012 02:00:00 AM</td>\n",
       "      <td>2.0</td>\n",
       "      <td>1.0</td>\n",
       "      <td>1.0</td>\n",
       "    </tr>\n",
       "    <tr>\n",
       "      <th>3</th>\n",
       "      <td>10/03/2012 03:00:00 AM</td>\n",
       "      <td>5.0</td>\n",
       "      <td>2.0</td>\n",
       "      <td>3.0</td>\n",
       "    </tr>\n",
       "    <tr>\n",
       "      <th>4</th>\n",
       "      <td>10/03/2012 04:00:00 AM</td>\n",
       "      <td>7.0</td>\n",
       "      <td>6.0</td>\n",
       "      <td>1.0</td>\n",
       "    </tr>\n",
       "  </tbody>\n",
       "</table>\n",
       "</div>"
      ],
      "text/plain": [
       "                     Date  Fremont Bridge Total  Fremont Bridge East Sidewalk  \\\n",
       "0  10/03/2012 12:00:00 AM                  13.0                           4.0   \n",
       "1  10/03/2012 01:00:00 AM                  10.0                           4.0   \n",
       "2  10/03/2012 02:00:00 AM                   2.0                           1.0   \n",
       "3  10/03/2012 03:00:00 AM                   5.0                           2.0   \n",
       "4  10/03/2012 04:00:00 AM                   7.0                           6.0   \n",
       "\n",
       "   Fremont Bridge West Sidewalk  \n",
       "0                           9.0  \n",
       "1                           6.0  \n",
       "2                           1.0  \n",
       "3                           3.0  \n",
       "4                           1.0  "
      ]
     },
     "execution_count": 2,
     "metadata": {},
     "output_type": "execute_result"
    }
   ],
   "source": [
    "#Read CSV file into a pandas dataframe\n",
    "data = pd.read_csv(\"Fremont_Bridge_Bicycle_Counter.csv\")\n",
    "data.head()"
   ]
  },
  {
   "cell_type": "markdown",
   "metadata": {},
   "source": [
    "Data Manipulation"
   ]
  },
  {
   "cell_type": "code",
   "execution_count": 3,
   "metadata": {
    "scrolled": true
   },
   "outputs": [
    {
     "data": {
      "text/html": [
       "<div>\n",
       "<style scoped>\n",
       "    .dataframe tbody tr th:only-of-type {\n",
       "        vertical-align: middle;\n",
       "    }\n",
       "\n",
       "    .dataframe tbody tr th {\n",
       "        vertical-align: top;\n",
       "    }\n",
       "\n",
       "    .dataframe thead th {\n",
       "        text-align: right;\n",
       "    }\n",
       "</style>\n",
       "<table border=\"1\" class=\"dataframe\">\n",
       "  <thead>\n",
       "    <tr style=\"text-align: right;\">\n",
       "      <th></th>\n",
       "      <th>Date</th>\n",
       "      <th>Fremont Bridge Total</th>\n",
       "      <th>Fremont Bridge East Sidewalk</th>\n",
       "      <th>Fremont Bridge West Sidewalk</th>\n",
       "      <th>Total_Bicycle_Count</th>\n",
       "    </tr>\n",
       "  </thead>\n",
       "  <tbody>\n",
       "    <tr>\n",
       "      <th>0</th>\n",
       "      <td>10/03/2012 12:00:00 AM</td>\n",
       "      <td>13.0</td>\n",
       "      <td>4.0</td>\n",
       "      <td>9.0</td>\n",
       "      <td>13.0</td>\n",
       "    </tr>\n",
       "    <tr>\n",
       "      <th>1</th>\n",
       "      <td>10/03/2012 01:00:00 AM</td>\n",
       "      <td>10.0</td>\n",
       "      <td>4.0</td>\n",
       "      <td>6.0</td>\n",
       "      <td>10.0</td>\n",
       "    </tr>\n",
       "    <tr>\n",
       "      <th>2</th>\n",
       "      <td>10/03/2012 02:00:00 AM</td>\n",
       "      <td>2.0</td>\n",
       "      <td>1.0</td>\n",
       "      <td>1.0</td>\n",
       "      <td>2.0</td>\n",
       "    </tr>\n",
       "    <tr>\n",
       "      <th>3</th>\n",
       "      <td>10/03/2012 03:00:00 AM</td>\n",
       "      <td>5.0</td>\n",
       "      <td>2.0</td>\n",
       "      <td>3.0</td>\n",
       "      <td>5.0</td>\n",
       "    </tr>\n",
       "    <tr>\n",
       "      <th>4</th>\n",
       "      <td>10/03/2012 04:00:00 AM</td>\n",
       "      <td>7.0</td>\n",
       "      <td>6.0</td>\n",
       "      <td>1.0</td>\n",
       "      <td>7.0</td>\n",
       "    </tr>\n",
       "  </tbody>\n",
       "</table>\n",
       "</div>"
      ],
      "text/plain": [
       "                     Date  Fremont Bridge Total  Fremont Bridge East Sidewalk  \\\n",
       "0  10/03/2012 12:00:00 AM                  13.0                           4.0   \n",
       "1  10/03/2012 01:00:00 AM                  10.0                           4.0   \n",
       "2  10/03/2012 02:00:00 AM                   2.0                           1.0   \n",
       "3  10/03/2012 03:00:00 AM                   5.0                           2.0   \n",
       "4  10/03/2012 04:00:00 AM                   7.0                           6.0   \n",
       "\n",
       "   Fremont Bridge West Sidewalk  Total_Bicycle_Count  \n",
       "0                           9.0                 13.0  \n",
       "1                           6.0                 10.0  \n",
       "2                           1.0                  2.0  \n",
       "3                           3.0                  5.0  \n",
       "4                           1.0                  7.0  "
      ]
     },
     "execution_count": 3,
     "metadata": {},
     "output_type": "execute_result"
    }
   ],
   "source": [
    "# 2.1> Create new column: TOtal_Bicycle_Count\n",
    "data['Total_Bicycle_Count'] = data['Fremont Bridge East Sidewalk'] + data['Fremont Bridge West Sidewalk']\n",
    "data.head()"
   ]
  },
  {
   "cell_type": "code",
   "execution_count": 4,
   "metadata": {},
   "outputs": [
    {
     "data": {
      "text/plain": [
       "Date                             object\n",
       "Fremont Bridge Total            float64\n",
       "Fremont Bridge East Sidewalk    float64\n",
       "Fremont Bridge West Sidewalk    float64\n",
       "Total_Bicycle_Count             float64\n",
       "dtype: object"
      ]
     },
     "execution_count": 4,
     "metadata": {},
     "output_type": "execute_result"
    }
   ],
   "source": [
    "#Check data types for each column in the data\n",
    "data.dtypes"
   ]
  },
  {
   "cell_type": "code",
   "execution_count": 5,
   "metadata": {},
   "outputs": [
    {
     "data": {
      "text/plain": [
       "Date                            datetime64[ns]\n",
       "Fremont Bridge Total                   float64\n",
       "Fremont Bridge East Sidewalk           float64\n",
       "Fremont Bridge West Sidewalk           float64\n",
       "Total_Bicycle_Count                    float64\n",
       "dtype: object"
      ]
     },
     "execution_count": 5,
     "metadata": {},
     "output_type": "execute_result"
    }
   ],
   "source": [
    "#Covert Date column to datetime\n",
    "data['Date'] = pd.to_datetime(data['Date'])\n",
    "data.dtypes"
   ]
  },
  {
   "cell_type": "code",
   "execution_count": 6,
   "metadata": {},
   "outputs": [
    {
     "data": {
      "text/html": [
       "<div>\n",
       "<style scoped>\n",
       "    .dataframe tbody tr th:only-of-type {\n",
       "        vertical-align: middle;\n",
       "    }\n",
       "\n",
       "    .dataframe tbody tr th {\n",
       "        vertical-align: top;\n",
       "    }\n",
       "\n",
       "    .dataframe thead th {\n",
       "        text-align: right;\n",
       "    }\n",
       "</style>\n",
       "<table border=\"1\" class=\"dataframe\">\n",
       "  <thead>\n",
       "    <tr style=\"text-align: right;\">\n",
       "      <th></th>\n",
       "      <th>Date</th>\n",
       "      <th>Fremont Bridge Total</th>\n",
       "      <th>Fremont Bridge East Sidewalk</th>\n",
       "      <th>Fremont Bridge West Sidewalk</th>\n",
       "      <th>Total_Bicycle_Count</th>\n",
       "      <th>Hour</th>\n",
       "      <th>Year</th>\n",
       "    </tr>\n",
       "  </thead>\n",
       "  <tbody>\n",
       "    <tr>\n",
       "      <th>0</th>\n",
       "      <td>2012-10-03 00:00:00</td>\n",
       "      <td>13.0</td>\n",
       "      <td>4.0</td>\n",
       "      <td>9.0</td>\n",
       "      <td>13.0</td>\n",
       "      <td>0</td>\n",
       "      <td>2012</td>\n",
       "    </tr>\n",
       "    <tr>\n",
       "      <th>1</th>\n",
       "      <td>2012-10-03 01:00:00</td>\n",
       "      <td>10.0</td>\n",
       "      <td>4.0</td>\n",
       "      <td>6.0</td>\n",
       "      <td>10.0</td>\n",
       "      <td>1</td>\n",
       "      <td>2012</td>\n",
       "    </tr>\n",
       "    <tr>\n",
       "      <th>2</th>\n",
       "      <td>2012-10-03 02:00:00</td>\n",
       "      <td>2.0</td>\n",
       "      <td>1.0</td>\n",
       "      <td>1.0</td>\n",
       "      <td>2.0</td>\n",
       "      <td>2</td>\n",
       "      <td>2012</td>\n",
       "    </tr>\n",
       "    <tr>\n",
       "      <th>3</th>\n",
       "      <td>2012-10-03 03:00:00</td>\n",
       "      <td>5.0</td>\n",
       "      <td>2.0</td>\n",
       "      <td>3.0</td>\n",
       "      <td>5.0</td>\n",
       "      <td>3</td>\n",
       "      <td>2012</td>\n",
       "    </tr>\n",
       "    <tr>\n",
       "      <th>4</th>\n",
       "      <td>2012-10-03 04:00:00</td>\n",
       "      <td>7.0</td>\n",
       "      <td>6.0</td>\n",
       "      <td>1.0</td>\n",
       "      <td>7.0</td>\n",
       "      <td>4</td>\n",
       "      <td>2012</td>\n",
       "    </tr>\n",
       "  </tbody>\n",
       "</table>\n",
       "</div>"
      ],
      "text/plain": [
       "                 Date  Fremont Bridge Total  Fremont Bridge East Sidewalk  \\\n",
       "0 2012-10-03 00:00:00                  13.0                           4.0   \n",
       "1 2012-10-03 01:00:00                  10.0                           4.0   \n",
       "2 2012-10-03 02:00:00                   2.0                           1.0   \n",
       "3 2012-10-03 03:00:00                   5.0                           2.0   \n",
       "4 2012-10-03 04:00:00                   7.0                           6.0   \n",
       "\n",
       "   Fremont Bridge West Sidewalk  Total_Bicycle_Count  Hour  Year  \n",
       "0                           9.0                 13.0     0  2012  \n",
       "1                           6.0                 10.0     1  2012  \n",
       "2                           1.0                  2.0     2  2012  \n",
       "3                           3.0                  5.0     3  2012  \n",
       "4                           1.0                  7.0     4  2012  "
      ]
     },
     "execution_count": 6,
     "metadata": {},
     "output_type": "execute_result"
    }
   ],
   "source": [
    "# 2.2> Extract Hour from the Date into a new column\n",
    "data['Hour'] = data['Date'].dt.hour\n",
    "\n",
    "# 2.3> Extract Year from the Date into a new column\n",
    "data['Year'] = data['Date'].dt.year\n",
    "data.head()"
   ]
  },
  {
   "cell_type": "code",
   "execution_count": 7,
   "metadata": {
    "scrolled": true
   },
   "outputs": [
    {
     "data": {
      "text/html": [
       "<div>\n",
       "<style scoped>\n",
       "    .dataframe tbody tr th:only-of-type {\n",
       "        vertical-align: middle;\n",
       "    }\n",
       "\n",
       "    .dataframe tbody tr th {\n",
       "        vertical-align: top;\n",
       "    }\n",
       "\n",
       "    .dataframe thead th {\n",
       "        text-align: right;\n",
       "    }\n",
       "</style>\n",
       "<table border=\"1\" class=\"dataframe\">\n",
       "  <thead>\n",
       "    <tr style=\"text-align: right;\">\n",
       "      <th></th>\n",
       "      <th>Date</th>\n",
       "      <th>Fremont Bridge Total</th>\n",
       "      <th>Fremont Bridge East Sidewalk</th>\n",
       "      <th>Fremont Bridge West Sidewalk</th>\n",
       "      <th>Total_Bicycle_Count</th>\n",
       "      <th>Hour</th>\n",
       "      <th>Year</th>\n",
       "    </tr>\n",
       "  </thead>\n",
       "  <tbody>\n",
       "    <tr>\n",
       "      <th>28440</th>\n",
       "      <td>2016-01-01 00:00:00</td>\n",
       "      <td>18.0</td>\n",
       "      <td>9.0</td>\n",
       "      <td>9.0</td>\n",
       "      <td>18.0</td>\n",
       "      <td>0</td>\n",
       "      <td>2016</td>\n",
       "    </tr>\n",
       "    <tr>\n",
       "      <th>28441</th>\n",
       "      <td>2016-01-01 01:00:00</td>\n",
       "      <td>15.0</td>\n",
       "      <td>3.0</td>\n",
       "      <td>12.0</td>\n",
       "      <td>15.0</td>\n",
       "      <td>1</td>\n",
       "      <td>2016</td>\n",
       "    </tr>\n",
       "    <tr>\n",
       "      <th>28442</th>\n",
       "      <td>2016-01-01 02:00:00</td>\n",
       "      <td>11.0</td>\n",
       "      <td>6.0</td>\n",
       "      <td>5.0</td>\n",
       "      <td>11.0</td>\n",
       "      <td>2</td>\n",
       "      <td>2016</td>\n",
       "    </tr>\n",
       "    <tr>\n",
       "      <th>28443</th>\n",
       "      <td>2016-01-01 03:00:00</td>\n",
       "      <td>7.0</td>\n",
       "      <td>1.0</td>\n",
       "      <td>6.0</td>\n",
       "      <td>7.0</td>\n",
       "      <td>3</td>\n",
       "      <td>2016</td>\n",
       "    </tr>\n",
       "    <tr>\n",
       "      <th>28444</th>\n",
       "      <td>2016-01-01 04:00:00</td>\n",
       "      <td>2.0</td>\n",
       "      <td>0.0</td>\n",
       "      <td>2.0</td>\n",
       "      <td>2.0</td>\n",
       "      <td>4</td>\n",
       "      <td>2016</td>\n",
       "    </tr>\n",
       "  </tbody>\n",
       "</table>\n",
       "</div>"
      ],
      "text/plain": [
       "                     Date  Fremont Bridge Total  Fremont Bridge East Sidewalk  \\\n",
       "28440 2016-01-01 00:00:00                  18.0                           9.0   \n",
       "28441 2016-01-01 01:00:00                  15.0                           3.0   \n",
       "28442 2016-01-01 02:00:00                  11.0                           6.0   \n",
       "28443 2016-01-01 03:00:00                   7.0                           1.0   \n",
       "28444 2016-01-01 04:00:00                   2.0                           0.0   \n",
       "\n",
       "       Fremont Bridge West Sidewalk  Total_Bicycle_Count  Hour  Year  \n",
       "28440                           9.0                 18.0     0  2016  \n",
       "28441                          12.0                 15.0     1  2016  \n",
       "28442                           5.0                 11.0     2  2016  \n",
       "28443                           6.0                  7.0     3  2016  \n",
       "28444                           2.0                  2.0     4  2016  "
      ]
     },
     "execution_count": 7,
     "metadata": {},
     "output_type": "execute_result"
    }
   ],
   "source": [
    "# 3> Filter out all rows except for Year = 2016\n",
    "\n",
    "data_2016 = data[data['Year'] == 2016]\n",
    "data_2016.head()"
   ]
  },
  {
   "cell_type": "markdown",
   "metadata": {},
   "source": [
    "Exploratory Analysis"
   ]
  },
  {
   "cell_type": "code",
   "execution_count": 8,
   "metadata": {},
   "outputs": [
    {
     "data": {
      "image/png": "[encoded data removed]",
      "text/plain": [
       "<Figure size 864x576 with 1 Axes>"
      ]
     },
     "metadata": {
      "needs_background": "light"
     },
     "output_type": "display_data"
    }
   ],
   "source": [
    "# 4> Plot total bicycle counts by hour \n",
    "\n",
    "total_bicycle_hourly = data.groupby(\"Hour\")[\"Total_Bicycle_Count\"].sum()\n",
    "total_bicycle_hourly = pd.DataFrame(total_bicycle_hourly).reset_index()\n",
    "\n",
    "# create bar plot\n",
    "fig, ax = plt.subplots(figsize=(12,8))\n",
    "ax.bar(x=total_bicycle_hourly[\"Hour\"], height=total_bicycle_hourly[\"Total_Bicycle_Count\"],)\n",
    "ax.set_xticks(total_bicycle_hourly[\"Hour\"])\n",
    "\n",
    "#I wanted to highlight the maximum in the plot, so used this approach. \n",
    "#reference: https://stackoverflow.com/questions/20394091/pandas-matplotlib-make-one-color-in-barplot-stand-out\n",
    "for bar in ax.patches:\n",
    "    bar.set_facecolor('#888888')\n",
    "\n",
    "highlight = total_bicycle_hourly['Total_Bicycle_Count'].idxmax()\n",
    "pos = total_bicycle_hourly.index.get_loc(highlight)\n",
    "\n",
    "ax.patches[pos].set_facecolor('#aa3033')\n",
    "# set chart title and axis labels\n",
    "plt.xlabel(\"Hour\")\n",
    "plt.ylabel(\"Total Bicycle Count\")\n",
    "\n",
    "plt.show()\n"
   ]
  },
  {
   "cell_type": "markdown",
   "metadata": {},
   "source": [
    "Arithmetic Operations"
   ]
  },
  {
   "cell_type": "code",
   "execution_count": 9,
   "metadata": {},
   "outputs": [
    {
     "data": {
      "text/html": [
       "<div>\n",
       "<style scoped>\n",
       "    .dataframe tbody tr th:only-of-type {\n",
       "        vertical-align: middle;\n",
       "    }\n",
       "\n",
       "    .dataframe tbody tr th {\n",
       "        vertical-align: top;\n",
       "    }\n",
       "\n",
       "    .dataframe thead th {\n",
       "        text-align: right;\n",
       "    }\n",
       "</style>\n",
       "<table border=\"1\" class=\"dataframe\">\n",
       "  <thead>\n",
       "    <tr style=\"text-align: right;\">\n",
       "      <th></th>\n",
       "      <th>Total_Bicycle_Count</th>\n",
       "    </tr>\n",
       "    <tr>\n",
       "      <th>Hour</th>\n",
       "      <th></th>\n",
       "    </tr>\n",
       "  </thead>\n",
       "  <tbody>\n",
       "    <tr>\n",
       "      <th>17</th>\n",
       "      <td>392.289003</td>\n",
       "    </tr>\n",
       "  </tbody>\n",
       "</table>\n",
       "</div>"
      ],
      "text/plain": [
       "      Total_Bicycle_Count\n",
       "Hour                     \n",
       "17             392.289003"
      ]
     },
     "execution_count": 9,
     "metadata": {},
     "output_type": "execute_result"
    }
   ],
   "source": [
    "# 5> Find on average which is the busiest hour of the day\n",
    "avg_traffic_hour = data.groupby(\"Hour\")[\"Total_Bicycle_Count\"].mean()\n",
    "avg_traffic_hour = pd.DataFrame(avg_traffic_hour)\n",
    "\n",
    "avg_traffic_hour[avg_traffic_hour[\"Total_Bicycle_Count\"] == max(avg_traffic_hour[\"Total_Bicycle_Count\"])]"
   ]
  }
 ],
 "metadata": {
  "kernelspec": {
   "display_name": "Python 3",
   "language": "python",
   "name": "python3"
  },
  "language_info": {
   "codemirror_mode": {
    "name": "ipython",
    "version": 3
   },
   "file_extension": ".py",
   "mimetype": "text/x-python",
   "name": "python",
   "nbconvert_exporter": "python",
   "pygments_lexer": "ipython3",
   "version": "3.7.3"
  }
 },
 "nbformat": 4,
 "nbformat_minor": 2
}
